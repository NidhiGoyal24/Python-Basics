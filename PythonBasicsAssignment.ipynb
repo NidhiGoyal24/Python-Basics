{
  "cells": [
    {
      "cell_type": "markdown",
      "metadata": {
        "id": "CDmya-wgxpkP"
      },
      "source": [
        "# **Python Basics**\n",
        "\n",
        "**1) What is Python and why it is Popular ?**\n",
        "\n",
        "-> Python is a Programming Language that is easy to understand and to\n",
        "   write.\n",
        "   It is very Popular because it is compatible with various programming paradigm, such as Procedural, Object - Oriented and functional Programming.\n",
        "   Also it has huge community of developers and extensive libraries.\n",
        "\n",
        "**2) What is an interpreter in Python?**\n",
        "\n",
        "-> Interpreter is a programme which reads the Python code and executes\n",
        "   it line by line.\n",
        "   It translate the code into machine readable form i.e. in bytecode and then execute the bytecode.\n",
        "\n",
        "**3) What are Pre-defined keywords in Python?**\n",
        "\n",
        "-> Keywords are reserved words in Python that have special meanings and\n",
        "   cannot be used as variable name or function name etc.\n",
        "\n",
        "**4) Can keywords be used as variable names?**\n",
        "\n",
        "-> No Keywords cannot be used as variable name, as they have already\n",
        "   there own special meaning.  \n",
        "\n",
        "**5) What is Mutability in Python?**\n",
        "\n",
        "-> Objects/ container whose state or value can be changed after they\n",
        "   are created are called as mutable objects.\n",
        "\n",
        "   Mutability means we can edit/ change the values.\n",
        "\n",
        "**6) Why are lists are mutable but tuples are immutable?**\n",
        "\n",
        "--> Lists are mutable because we can make changes in lists items like add, remove etc. while in tuples we can not modify them. for modification we have to create new tuple. thts y tuples are immutable.\n",
        "\n",
        "**7) What is the difference between \"==\" and \"is\" operators in Python?**\n",
        "\n",
        "-> The \"==\" is referred to as equality operator i.e. it can compare the\n",
        "   value of two objects/ variables.\n",
        "\n",
        "   The \"is\" termed as identity operator i.e.it is used to check whether the different variables are pointing to the same object in memory.\n",
        "\n",
        "**8) What are logical operators in Python?**\n",
        "\n",
        "->  Logical operators in Python combine two or more operands and\n",
        "  conduct logical comparisons on them.\n",
        "\n",
        "  There are three types, i.e., AND, OR, and NOT. They return a boolean value, i.e., True or False.\n",
        "\n",
        "**9) What is type casting in Python?**\n",
        "\n",
        "-> Type casting is the process of changing one data type to another\n",
        "   data type.\n",
        "\n",
        "**10) What is the difference between implicit and explicit type casting**\n",
        "\n",
        "-> Implicit : Python understand data type by its own. like in java or\n",
        "   c, c++ we don't have to mention while writting the code.\n",
        "\n",
        "   Explicit : We can convert data type using inbuilt function i.e. (str, int, float)\n",
        "\n",
        "**11) What is the purpose of conditional statement in Python?**\n",
        "\n",
        "-> Conditional in Python are used to execute the code based on the\n",
        "   evaluation of one or more conditions.\n",
        "\n",
        "**12) How does the elif statement works?**\n",
        "\n",
        "-> The “elif” statement in Python, stands for “else if”.\n",
        "\n",
        "   It can be used in conditional statements to check for multiple conditions.\n",
        "\n",
        "   For example, if the first condition is false, it moves on to the next “elif” statement to check if that condition is true.\n",
        "\n",
        "**13) What is the difference between for and while loop?**\n",
        "\n",
        "-> \"for” loops : It is used for iterating over a sequence of elements.  \n",
        "   “while” loops : It is used for executing code until a specified condition becomes False.\n",
        "\n",
        "**14) Describe a scenario where a while loop is more suitable than for loop**"
      ]
    },
    {
      "cell_type": "markdown",
      "metadata": {
        "id": "0zFoS54J-CyU"
      },
      "source": [
        "# **Practical Questions**"
      ]
    },
    {
      "cell_type": "code",
      "execution_count": null,
      "metadata": {
        "id": "4XPlbhAO-P6n"
      },
      "outputs": [],
      "source": [
        "## 1) Write a Python Program to print \"Hello World !\"\n",
        "\n",
        "print(\"Hello World !\")"
      ]
    },
    {
      "cell_type": "code",
      "execution_count": null,
      "metadata": {
        "id": "CNf_Ox6n-jXB"
      },
      "outputs": [],
      "source": [
        "## 2) Write a Python Program that Display your name and age\n",
        "\n",
        "name = \"Nidhi\"\n",
        "age = 33\n",
        "print(\"My name is :\", name)\n",
        "print(\"My age is :\", age)"
      ]
    },
    {
      "cell_type": "code",
      "execution_count": null,
      "metadata": {
        "id": "5-VH6Xhz_Iqg"
      },
      "outputs": [],
      "source": [
        "## 3) Write code to print all the pre-defined keywords in Python using the keyword library.\n",
        "\n",
        "help ('keywords')"
      ]
    },
    {
      "cell_type": "code",
      "execution_count": null,
      "metadata": {
        "id": "vxU6WK23_bhl",
        "colab": {
          "base_uri": "https://localhost:8080/"
        },
        "outputId": "5ce78606-c1ad-4e62-903d-3de23e45cb44"
      },
      "outputs": [
        {
          "output_type": "stream",
          "name": "stdout",
          "text": [
            "for is Python keyword\n"
          ]
        }
      ],
      "source": [
        "## 4) Write a program that checks if a given word is Python keyword.\n",
        "\n",
        "import keyword  ##\n",
        "\n",
        "s = \"for\"  ## we can change different wordsand try it\n",
        "\n",
        "if keyword.iskeyword(s):  ## iskeyword() is the function\n",
        "  print(f\"{s} is Python keyword\")\n",
        "else:\n",
        "  print(f\"{s} is not Python Keyword\")"
      ]
    },
    {
      "cell_type": "code",
      "execution_count": null,
      "metadata": {
        "id": "0k2u7rG7_o4N"
      },
      "outputs": [],
      "source": [
        "## 5) Create a list and Tuple in Python, and Demonstrate how attempting to change an elements works differently for each.\n",
        "\n",
        "list = [1, 2.4, \"nidhi\",\"data-analytics\"]\n",
        "print(list)\n",
        "type(list)\n",
        "\n",
        "tuple = (1, 2.4, \"nidhi\",\"data-analytics\")\n",
        "print(tuple)\n",
        "type(tuple)\n",
        "\n",
        "list[0] = 100\n",
        "print(list)\n",
        "\n",
        "tuple[0] = 100\n",
        "print(tuple)"
      ]
    },
    {
      "cell_type": "code",
      "execution_count": null,
      "metadata": {
        "id": "mILQ2vL3_8bq",
        "colab": {
          "base_uri": "https://localhost:8080/"
        },
        "outputId": "4bde31a9-2c04-4b20-fde9-4e153ca2b62c"
      },
      "outputs": [
        {
          "output_type": "stream",
          "name": "stdout",
          "text": [
            "[1, 2.4, 'nidhi', 'data-analytics']\n",
            "(1, 2.4, 'nidhi', 'data-analytics')\n"
          ]
        },
        {
          "output_type": "execute_result",
          "data": {
            "text/plain": [
              "tuple"
            ]
          },
          "metadata": {},
          "execution_count": 1
        }
      ],
      "source": [
        "## 6,7) Write a function to Demonstrate the behaviour of mutable and immutable arguments.\n",
        "\n",
        "list = [1, 2.4, \"nidhi\",\"data-analytics\"]  ## mutable lists are in square brackets[]\n",
        "print(list)\n",
        "type(list)\n",
        "\n",
        "tuple = (1, 2.4, \"nidhi\",\"data-analytics\")  ## immutable tuples are in parenthesis ()\n",
        "print(tuple)\n",
        "type(tuple)"
      ]
    },
    {
      "cell_type": "code",
      "execution_count": null,
      "metadata": {
        "id": "FDi9yyY6AICU",
        "colab": {
          "base_uri": "https://localhost:8080/"
        },
        "outputId": "ded8635e-c8ac-4062-f4cd-41034c542321"
      },
      "outputs": [
        {
          "output_type": "execute_result",
          "data": {
            "text/plain": [
              "True"
            ]
          },
          "metadata": {},
          "execution_count": 4
        }
      ],
      "source": [
        "## 8) Write a program to Demonstrate the use of logical operator.\n",
        "\n",
        "## logical operator:\n",
        "\n",
        "## 1) AND operator :\n",
        "True and True"
      ]
    },
    {
      "cell_type": "code",
      "source": [
        "True and False"
      ],
      "metadata": {
        "colab": {
          "base_uri": "https://localhost:8080/"
        },
        "id": "LWhVJEp7t2v7",
        "outputId": "bec18674-a68c-4511-a30d-8e932fef0178"
      },
      "execution_count": null,
      "outputs": [
        {
          "output_type": "execute_result",
          "data": {
            "text/plain": [
              "False"
            ]
          },
          "metadata": {},
          "execution_count": 5
        }
      ]
    },
    {
      "cell_type": "code",
      "source": [
        "## 2) OR operator :\n",
        "\n",
        "True or True"
      ],
      "metadata": {
        "colab": {
          "base_uri": "https://localhost:8080/"
        },
        "id": "VOMaXNhyt7KX",
        "outputId": "11e44b24-32ce-4a9a-ad65-7ef7ae62d3fb"
      },
      "execution_count": null,
      "outputs": [
        {
          "output_type": "execute_result",
          "data": {
            "text/plain": [
              "True"
            ]
          },
          "metadata": {},
          "execution_count": 6
        }
      ]
    },
    {
      "cell_type": "code",
      "source": [
        "True or False"
      ],
      "metadata": {
        "colab": {
          "base_uri": "https://localhost:8080/"
        },
        "id": "Nmdm_S2TuCK1",
        "outputId": "ccb80a32-bfb9-4293-f740-e732b096a4c8"
      },
      "execution_count": null,
      "outputs": [
        {
          "output_type": "execute_result",
          "data": {
            "text/plain": [
              "True"
            ]
          },
          "metadata": {},
          "execution_count": 7
        }
      ]
    },
    {
      "cell_type": "code",
      "source": [
        "## 3) NOT operator :\n",
        "not True"
      ],
      "metadata": {
        "colab": {
          "base_uri": "https://localhost:8080/"
        },
        "id": "b3CwU9cVuFDa",
        "outputId": "449163e6-da5c-443b-b332-0df63126d02a"
      },
      "execution_count": null,
      "outputs": [
        {
          "output_type": "execute_result",
          "data": {
            "text/plain": [
              "False"
            ]
          },
          "metadata": {},
          "execution_count": 8
        }
      ]
    },
    {
      "cell_type": "code",
      "source": [
        "not False"
      ],
      "metadata": {
        "colab": {
          "base_uri": "https://localhost:8080/"
        },
        "id": "_58IdZT1uMvt",
        "outputId": "6117f5c7-8ae9-424c-cb69-65fb1a1ef617"
      },
      "execution_count": null,
      "outputs": [
        {
          "output_type": "execute_result",
          "data": {
            "text/plain": [
              "True"
            ]
          },
          "metadata": {},
          "execution_count": 9
        }
      ]
    },
    {
      "cell_type": "code",
      "execution_count": null,
      "metadata": {
        "id": "2OkKwFsUAYnM",
        "colab": {
          "base_uri": "https://localhost:8080/"
        },
        "outputId": "35d7df65-c02a-47f0-f0d1-a5c7228ef7a7"
      },
      "outputs": [
        {
          "output_type": "stream",
          "name": "stdout",
          "text": [
            "Please enter a string : nidhi\n",
            "nidhi\n",
            "<class 'str'>\n",
            "Please enter a string : 26\n",
            "26\n",
            "<class 'int'>\n",
            "Please enter a string : 5.5\n",
            "5.5\n",
            "<class 'float'>\n"
          ]
        }
      ],
      "source": [
        "## 9) Write a Python program to convert user input from string to integer, float and boolean values.\n",
        "\n",
        "string = input(\"Please enter a string : \")  ## user input bydefault always in string.\n",
        "print(string)\n",
        "print(type(string))\n",
        "\n",
        "string1 = int(input(\"Please enter a string : \"))  ## converted user input into integer\n",
        "print(string1)\n",
        "print(type(string1))\n",
        "\n",
        "string2 = float(input(\"Please enter a string : \"))  ## converted user input into float\n",
        "print(string2)\n",
        "print(type(string2))"
      ]
    },
    {
      "cell_type": "code",
      "execution_count": null,
      "metadata": {
        "id": "dRwsP1nYAp2n",
        "colab": {
          "base_uri": "https://localhost:8080/"
        },
        "outputId": "da994928-94f0-489b-9e25-f59fe545d571"
      },
      "outputs": [
        {
          "output_type": "stream",
          "name": "stdout",
          "text": [
            "[1, 2.4, 'nidhi', 'data-analytics']\n"
          ]
        },
        {
          "output_type": "execute_result",
          "data": {
            "text/plain": [
              "list"
            ]
          },
          "metadata": {},
          "execution_count": 12
        }
      ],
      "source": [
        "## 10) Write code to Demonstrate type casting with list elements.\n",
        "\n",
        "abcd = [1, 2.4, \"nidhi\",\"data-analytics\"]\n",
        "print(abcd)\n",
        "type(abcd)"
      ]
    },
    {
      "cell_type": "code",
      "source": [
        "new_list = str(abcd)\n",
        "print(new_list)\n",
        "type(new_list)"
      ],
      "metadata": {
        "colab": {
          "base_uri": "https://localhost:8080/"
        },
        "id": "RHUYbe7LvUvX",
        "outputId": "3f7a1ea5-32b7-476b-b8e8-e7d5b8011674"
      },
      "execution_count": null,
      "outputs": [
        {
          "output_type": "stream",
          "name": "stdout",
          "text": [
            "[1, 2.4, 'nidhi', 'data-analytics']\n"
          ]
        },
        {
          "output_type": "execute_result",
          "data": {
            "text/plain": [
              "str"
            ]
          },
          "metadata": {},
          "execution_count": 15
        }
      ]
    },
    {
      "cell_type": "code",
      "execution_count": null,
      "metadata": {
        "id": "cbzLMWRCA05g"
      },
      "outputs": [],
      "source": [
        "## 11) Write a program that checks if a number is positive, negative or zero.\n",
        "\n",
        "num = int(input(\"Please enter number : \"))\n",
        "\n",
        "if num > 0 :\n",
        "  print(\"Number is Positive\")\n",
        "elif num < 0 :\n",
        "    print(\"Number is negative\")\n",
        "else :\n",
        " print(\"Number is equal to zero\")"
      ]
    },
    {
      "cell_type": "code",
      "execution_count": null,
      "metadata": {
        "id": "LD-xt7gWBCQt"
      },
      "outputs": [],
      "source": [
        "## 12) Write for loop to print numbers from 1 to 10.\n",
        "\n",
        "for i in range(1,11):\n",
        "  print(i)"
      ]
    },
    {
      "cell_type": "code",
      "execution_count": null,
      "metadata": {
        "id": "pHqGkjs4BI0-",
        "colab": {
          "base_uri": "https://localhost:8080/"
        },
        "outputId": "01a25592-371c-4650-c423-4d4883a83d15"
      },
      "outputs": [
        {
          "output_type": "stream",
          "name": "stdout",
          "text": [
            "650\n"
          ]
        }
      ],
      "source": [
        "## 13) Write a Python program to find the sum of all even numbers between 1 and 50.\n",
        "\n",
        "sum = 0\n",
        "for i in range(1, 51):\n",
        "  if i % 2 == 0 :\n",
        "    sum = sum + i\n",
        "print(sum)"
      ]
    },
    {
      "cell_type": "code",
      "execution_count": null,
      "metadata": {
        "id": "v_C7S22SBV9T",
        "colab": {
          "base_uri": "https://localhost:8080/"
        },
        "outputId": "f3f918d5-ad9c-434a-d76e-4ce4e3a556e3"
      },
      "outputs": [
        {
          "output_type": "stream",
          "name": "stdout",
          "text": [
            "egaugnaL gnimmargorP nohtyP\n"
          ]
        }
      ],
      "source": [
        "## 14) Write a program to reverse a string using a while loop.\n",
        "\n",
        "string = \"Python Programming Language\"\n",
        "rev_string = \"\"\n",
        "len(string)\n",
        "length = len(string) - 1\n",
        "while length >= 0 :\n",
        "  rev_string = rev_string + string[length]\n",
        "  length = length - 1\n",
        "print(rev_string)"
      ]
    },
    {
      "cell_type": "code",
      "execution_count": null,
      "metadata": {
        "id": "GZwOs-2hBmXs"
      },
      "outputs": [],
      "source": [
        "## 15) Write a Python program to calculate the factorial of a number provided by the user using a while loop.\n",
        "\n",
        "num = int(input(\"Please Enter a number : \"))\n",
        "factorial = 1\n",
        "i = 1\n",
        "\n",
        "if num < 0 :\n",
        "  print(\"Number must be positive, Please enter positive number\")\n",
        "elif num == 0:\n",
        "  print(\"Factorial is 1\")\n",
        "else :\n",
        "  while i <= num :\n",
        "    factorial = factorial * i\n",
        "    i = i + 1\n",
        "  print(\"The factorial of number is : \", factorial)\n"
      ]
    },
    {
      "cell_type": "code",
      "source": [],
      "metadata": {
        "id": "mQIFLzY4oxM_"
      },
      "execution_count": null,
      "outputs": []
    }
  ],
  "metadata": {
    "colab": {
      "provenance": []
    },
    "kernelspec": {
      "display_name": "Python 3",
      "name": "python3"
    },
    "language_info": {
      "name": "python"
    }
  },
  "nbformat": 4,
  "nbformat_minor": 0
}